{
 "cells": [
  {
   "cell_type": "code",
   "execution_count": 6,
   "metadata": {},
   "outputs": [],
   "source": [
    "# Create a dictionary with these\n",
    "# 0. nose\n",
    "# 1. left_eye_inner\n",
    "# 2. left_eye\n",
    "# 3. left_eve_outer\n",
    "# 4. right_eye_inner\n",
    "# 5. right_eye\n",
    "# 6. right_eye_outer\n",
    "# 7. left_ear\n",
    "# 8. right_ear\n",
    "# 9. mouth_left\n",
    "# 10. mouth_right\n",
    "# 11. left_shoulder\n",
    "# 12. right_shoulder\n",
    "# 13. left_elbow\n",
    "# 14. right_elbow\n",
    "# 15. left_wrist\n",
    "# 16. right_wrist\n",
    "# 17. left_pinky\n",
    "# 18. right_pinky\n",
    "# 19. left index\n",
    "# 20. right_index\n",
    "# 21. left_thumb\n",
    "# 22. right_thumb\n",
    "# 23. left_hip\n",
    "# 24. right_hip\n",
    "# 25. left_knee\n",
    "# 26. right_knee\n",
    "# 27. left_ankle\n",
    "# 28. right_ankle\n",
    "# 29. left_heel\n",
    "# 30. right_heel\n",
    "# 31. left_foot_index\n",
    "# 32. right_foot_index"
   ]
  },
  {
   "cell_type": "markdown",
   "metadata": {},
   "source": [
    "### Creating a dictionary with Body Points for Dimensions Image"
   ]
  },
  {
   "cell_type": "code",
   "execution_count": 1,
   "metadata": {},
   "outputs": [],
   "source": [
    "body_points={0:(\"nose\",913,362),\n",
    "             1:(\"left_eye\",933,376),\n",
    "             2:(\"left_ear\",943,414),\n",
    "             3:(\"left_shoulder\",795,501),\n",
    "             4:(\"right_shoulder\",792,353),\n",
    "             5:(\"left_elbow\",804,597),\n",
    "             6:(\"right_elbow\",824,223),\n",
    "             7:(\"left_palm\",815,714),\n",
    "             8:(\"right_palm\",862,96),\n",
    "             9:(\"left_hip\",550,487),\n",
    "             10:(\"right_hip\",374,423),\n",
    "             11:(\"left_knee\",671,595),\n",
    "             12:(\"right_knee\",273,551),\n",
    "             13:(\"left_ankle\",862,711),\n",
    "             14:(\"right_ankle\",154,701),\n",
    "             15:(\"left_heel\",830,718),\n",
    "             16:(\"right_heel\",160,718),\n",
    "             17:(\"left_foot_index\",974,719),\n",
    "             18:(\"right_foot_index\",124,715)}"
   ]
  },
  {
   "cell_type": "markdown",
   "metadata": {},
   "source": [
    "### Reference Dictionary with body parts and index"
   ]
  },
  {
   "cell_type": "code",
   "execution_count": 2,
   "metadata": {},
   "outputs": [
    {
     "data": {
      "text/plain": [
       "{'nose': 0,\n",
       " 'left_eye': 1,\n",
       " 'left_ear': 2,\n",
       " 'left_shoulder': 3,\n",
       " 'right_shoulder': 4,\n",
       " 'left_elbow': 5,\n",
       " 'right_elbow': 6,\n",
       " 'left_palm': 7,\n",
       " 'right_palm': 8,\n",
       " 'left_hip': 9,\n",
       " 'right_hip': 10,\n",
       " 'left_knee': 11,\n",
       " 'right_knee': 12,\n",
       " 'left_ankle': 13,\n",
       " 'right_ankle': 14,\n",
       " 'left_heel': 15,\n",
       " 'right_heel': 16,\n",
       " 'left_foot_index': 17,\n",
       " 'right_foot_index': 18}"
      ]
     },
     "execution_count": 2,
     "metadata": {},
     "output_type": "execute_result"
    }
   ],
   "source": [
    "ref_body_dict=[]\n",
    "for i in body_points:\n",
    "    x=body_points[i][0]\n",
    "    y=i\n",
    "    ref_body_dict.append((x,y))\n",
    "ref_body_dict=dict(ref_body_dict)\n",
    "ref_body_dict"
   ]
  },
  {
   "cell_type": "markdown",
   "metadata": {},
   "source": [
    "### Drawing points for Dimensions Image"
   ]
  },
  {
   "cell_type": "code",
   "execution_count": 3,
   "metadata": {},
   "outputs": [],
   "source": [
    "import numpy as np\n",
    "import cv2\n",
    "blank=np.zeros((720,1280))\n",
    "img=cv2.imread(\"Images_output\\yogframe_img+edge+points.jpg\")\n",
    "for i in body_points:\n",
    "    cv2.circle(img,body_points[i][1:],3,(255,0,0),cv2.FILLED)\n",
    "# cv2.imshow(\"dim_yog\",img)\n",
    "# cv2.waitKey()\n",
    "# cv2.destroyAllWindows()"
   ]
  },
  {
   "cell_type": "markdown",
   "metadata": {},
   "source": [
    "### Superposing Images"
   ]
  },
  {
   "cell_type": "code",
   "execution_count": 21,
   "metadata": {},
   "outputs": [],
   "source": [
    "import cv2\n",
    "import numpy as np\n",
    "\n",
    "img1 = cv2.imread(\"dim_pose_sameht.jpg\")\n",
    "img2 = cv2.imread(\"images\\dim_triangles-cropped.png\")\n",
    "img2= cv2.resize(img2,img1.shape[1::-1])\n",
    "added_image = cv2.addWeighted(img1,0.7,img2,0.3,0)\n",
    "\n",
    "\n",
    "cv2.imshow('Blended Image',added_image)\n",
    "# cv2.imwrite(\"Comparision with ground truth\\yogframe_dimyog_cropped.jpg\",added_image)\n",
    "cv2.waitKey(0)\n",
    "cv2.destroyAllWindows()"
   ]
  },
  {
   "cell_type": "markdown",
   "metadata": {},
   "source": [
    "### Pose detection for Inferenced Yoga Image"
   ]
  },
  {
   "cell_type": "code",
   "execution_count": 4,
   "metadata": {},
   "outputs": [],
   "source": [
    "import mediapipe as mp\n",
    "import cv2\n",
    "import time\n",
    "import numpy as np\n",
    "mpPose = mp.solutions.pose\n",
    "pose = mpPose.Pose()\n",
    "mpDraw = mp.solutions.drawing_utils # For drawing keypoints\n",
    "points = mpPose.PoseLandmark # Landmarks\n",
    "\n",
    "img = cv2.imread(r'images\\yogframe.jpg')\n",
    "imageWidth, imageHeight = img.shape[:2]\n",
    "imgRGB = cv2.cvtColor(img, cv2.COLOR_BGR2RGB)\n",
    "blank = np.zeros(img.shape) # Blank image\n",
    "results = pose.process(imgRGB)\n",
    "\n",
    "if results.pose_landmarks:\n",
    "    mpDraw.draw_landmarks(blank, results.pose_landmarks, mpPose.POSE_CONNECTIONS) # draw landmarks on blank\n",
    "    landmarks = results.pose_landmarks.landmark\n",
    "\n",
    "\n",
    "# cv2.imshow(\"Image\", img)\n",
    "# cv2.imshow(\"blank\",blank)\n",
    "# # cv2.imwrite('Images_output\\yogframe_points.jpg',blank)\n",
    "# cv2.waitKey()\n",
    "# cv2.destroyAllWindows()"
   ]
  },
  {
   "cell_type": "markdown",
   "metadata": {},
   "source": [
    "### Getting Body Points in List from Pose detection "
   ]
  },
  {
   "cell_type": "code",
   "execution_count": 5,
   "metadata": {},
   "outputs": [],
   "source": [
    "comb_list=[]\n",
    "for id, lm in enumerate(results.pose_landmarks.landmark):\n",
    "    h, w,c = img.shape\n",
    "    # print(id, lm)\n",
    "    cx, cy = int(lm.x*w), int(lm.y*h)\n",
    "    comb_list.append((cx,cy))\n",
    "\n",
    "comb_list=dict(enumerate(comb_list))"
   ]
  },
  {
   "cell_type": "code",
   "execution_count": 6,
   "metadata": {},
   "outputs": [],
   "source": [
    "req_points=[0,2,7,11,12,13,14,15,16,23,24,25,26,27,28,29,30,31,32]\n",
    "req_body_points=[]\n",
    "for i in comb_list:\n",
    "    if i in req_points:\n",
    "        req_body_points.append(comb_list[i])\n",
    "\n",
    "req_body_points=dict(enumerate(req_body_points))\n"
   ]
  },
  {
   "cell_type": "code",
   "execution_count": 7,
   "metadata": {},
   "outputs": [],
   "source": [
    "# Function for Eucledian Line distance\n",
    "import math\n",
    "def l_dist(x1,y1,x2,y2):\n",
    "    sq1=(x2-x1)**2\n",
    "    sq2=(y2-y1)**2\n",
    "    res=int(math.sqrt(sq1 + sq2))\n",
    "    return res"
   ]
  },
  {
   "cell_type": "code",
   "execution_count": 8,
   "metadata": {},
   "outputs": [
    {
     "data": {
      "text/plain": [
       "19"
      ]
     },
     "execution_count": 8,
     "metadata": {},
     "output_type": "execute_result"
    }
   ],
   "source": [
    "dist=[]\n",
    "for i in body_points:\n",
    "    a=req_body_points[i][0]\n",
    "    b=req_body_points[i][1]\n",
    "    c=body_points[i][1]\n",
    "    d=body_points[i][2]\n",
    "    dist.append(l_dist(a,b,c,d))\n",
    "len(dist)"
   ]
  },
  {
   "cell_type": "code",
   "execution_count": 9,
   "metadata": {},
   "outputs": [],
   "source": [
    "# function for drawing lines between two points\n",
    "import cv2\n",
    "def l_func(img,x1,y1,x2,y2):\n",
    "    cv2.line(img,(x1,y1),(x2,y2),(0,255,0),2)\n"
   ]
  },
  {
   "cell_type": "code",
   "execution_count": 10,
   "metadata": {},
   "outputs": [],
   "source": [
    "import cv2\n",
    "img=cv2.imread(\"Comparision with ground truth\\yogframe_dimyog.jpg\")\n",
    "for i in req_body_points:\n",
    "    a=req_body_points[i][0]\n",
    "    b=req_body_points[i][1]\n",
    "    c=body_points[i][1]\n",
    "    d=body_points[i][2]\n",
    "    p=int((a+c)/2)\n",
    "    q=int((b+d)/2)\n",
    "    distance=str(dist[i])\n",
    "    l_func(img,a,b,c,d)\n",
    "    cv2.putText(img,distance,(p,q),cv2.FONT_HERSHEY_SIMPLEX,0.5,(0,0,0),1,cv2.LINE_AA)\n",
    "# cv2.imshow('Ima',img)\n",
    "# # cv2.imwrite(\"Comparision with ground truth\\yogframe_dimyog_ptsdist.jpg\",img)\n",
    "# cv2.waitKey()\n",
    "# cv2.destroyAllWindows()"
   ]
  },
  {
   "cell_type": "code",
   "execution_count": 11,
   "metadata": {},
   "outputs": [
    {
     "data": {
      "text/plain": [
       "dict_keys(['nose', 'left_eye', 'left_ear', 'left_shoulder', 'right_shoulder', 'left_elbow', 'right_elbow', 'left_palm', 'right_palm', 'left_hip', 'right_hip', 'left_knee', 'right_knee', 'left_ankle', 'right_ankle', 'left_heel', 'right_heel', 'left_foot_index', 'right_foot_index'])"
      ]
     },
     "execution_count": 11,
     "metadata": {},
     "output_type": "execute_result"
    }
   ],
   "source": [
    "ref_body_dict.keys()"
   ]
  },
  {
   "cell_type": "code",
   "execution_count": 12,
   "metadata": {},
   "outputs": [
    {
     "data": {
      "text/plain": [
       "(744, 138)"
      ]
     },
     "execution_count": 12,
     "metadata": {},
     "output_type": "execute_result"
    }
   ],
   "source": [
    "ref_datum=[i for i in ref_body_dict.keys() if i in [\"right_palm\",\"right_ankle\"]]\n",
    "req_body_points[ref_body_dict[ref_datum[0]]]"
   ]
  },
  {
   "cell_type": "code",
   "execution_count": 13,
   "metadata": {},
   "outputs": [
    {
     "data": {
      "text/plain": [
       "array([[[119, 119, 119],\n",
       "        [119, 119, 119],\n",
       "        [119, 119, 119],\n",
       "        ...,\n",
       "        [125, 124, 126],\n",
       "        [125, 124, 126],\n",
       "        [125, 124, 126]],\n",
       "\n",
       "       [[119, 119, 119],\n",
       "        [119, 119, 119],\n",
       "        [119, 119, 119],\n",
       "        ...,\n",
       "        [125, 124, 126],\n",
       "        [125, 124, 126],\n",
       "        [125, 124, 126]],\n",
       "\n",
       "       [[119, 119, 119],\n",
       "        [119, 119, 119],\n",
       "        [119, 119, 119],\n",
       "        ...,\n",
       "        [125, 124, 126],\n",
       "        [125, 124, 126],\n",
       "        [125, 124, 126]],\n",
       "\n",
       "       ...,\n",
       "\n",
       "       [[128, 123, 124],\n",
       "        [128, 123, 124],\n",
       "        [128, 123, 124],\n",
       "        ...,\n",
       "        [126, 121, 123],\n",
       "        [126, 121, 123],\n",
       "        [126, 121, 123]],\n",
       "\n",
       "       [[128, 123, 124],\n",
       "        [128, 123, 124],\n",
       "        [128, 123, 124],\n",
       "        ...,\n",
       "        [126, 121, 122],\n",
       "        [126, 121, 123],\n",
       "        [125, 120, 122]],\n",
       "\n",
       "       [[128, 123, 124],\n",
       "        [128, 123, 124],\n",
       "        [128, 123, 124],\n",
       "        ...,\n",
       "        [126, 121, 122],\n",
       "        [125, 120, 122],\n",
       "        [125, 120, 122]]], dtype=uint8)"
      ]
     },
     "execution_count": 13,
     "metadata": {},
     "output_type": "execute_result"
    }
   ],
   "source": [
    "#Finding Distance between right palm and ankle\n",
    "import cv2\n",
    "img=cv2.imread(\"Comparision with ground truth\\yogframe_dimyog.jpg\")\n",
    "xyp=[]\n",
    "xyp2=[]\n",
    "for i in ref_datum:\n",
    "    p=ref_body_dict[i]\n",
    "    a=body_points[p][1:]\n",
    "    b=req_body_points[p]\n",
    "    xyp.append(a)\n",
    "    xyp2.append(b)\n",
    "\n",
    "# for i in range(len(xyp)):\n",
    "#     print(xyp[i][0],xyp[i+1][0])\n",
    "#     cv2.line(img,xyp[i][0],xyp[i][1],(0,255,0),2)\n",
    "cv2.line(img,xyp[0],xyp[1],(0,255,0),2)\n",
    "#     distance=str(l_dist(xyp[i][0][0],xyp[i][0][1],xyp[i][1][0],xyp[i][1][1]))\n",
    "distance=str(l_dist(xyp[0][0],xyp[0][1],xyp[1][0],xyp[1][1]))\n",
    "p=int((xyp[0][0]+xyp[1][0])/2)\n",
    "q=int((xyp[0][1]+xyp[1][1])/2)\n",
    "cv2.putText(img,distance,(p,q),cv2.FONT_HERSHEY_SIMPLEX,1,(0,0,0),2,cv2.LINE_AA)\n",
    "\n",
    "\n",
    "cv2.line(img,xyp2[0],xyp2[1],(0,255,0),2)\n",
    "#     distance=str(l_dist(xyp[i][0][0],xyp[i][0][1],xyp[i][1][0],xyp[i][1][1]))\n",
    "distance=str(l_dist(xyp2[0][0],xyp2[0][1],xyp2[1][0],xyp2[1][1]))\n",
    "p=int((xyp2[0][0]+xyp2[1][0])/2)\n",
    "q=int((xyp2[0][1]+xyp2[1][1])/2)\n",
    "cv2.putText(img,distance,(p,q),cv2.FONT_HERSHEY_SIMPLEX,1,(0,0,0),2,cv2.LINE_AA)\n",
    "# cv2.imshow('Ima',img)\n",
    "# # # # cv2.imwrite(\"Comparision with ground truth\\yogframe_dimyog_ptsdist.jpg\",img)\n",
    "# cv2.waitKey()\n",
    "# cv2.destroyAllWindows()"
   ]
  },
  {
   "cell_type": "code",
   "execution_count": 14,
   "metadata": {},
   "outputs": [
    {
     "data": {
      "text/plain": [
       "(797, 645)"
      ]
     },
     "execution_count": 14,
     "metadata": {},
     "output_type": "execute_result"
    }
   ],
   "source": [
    "ref_datum=[i for i in ref_body_dict.keys() if i in [\"right_ankle\",\"left_ankle\"]]\n",
    "req_body_points[ref_body_dict[ref_datum[0]]]"
   ]
  },
  {
   "cell_type": "code",
   "execution_count": 15,
   "metadata": {},
   "outputs": [
    {
     "data": {
      "text/plain": [
       "array([[[119, 119, 119],\n",
       "        [119, 119, 119],\n",
       "        [119, 119, 119],\n",
       "        ...,\n",
       "        [125, 124, 126],\n",
       "        [125, 124, 126],\n",
       "        [125, 124, 126]],\n",
       "\n",
       "       [[119, 119, 119],\n",
       "        [119, 119, 119],\n",
       "        [119, 119, 119],\n",
       "        ...,\n",
       "        [125, 124, 126],\n",
       "        [125, 124, 126],\n",
       "        [125, 124, 126]],\n",
       "\n",
       "       [[119, 119, 119],\n",
       "        [119, 119, 119],\n",
       "        [119, 119, 119],\n",
       "        ...,\n",
       "        [125, 124, 126],\n",
       "        [125, 124, 126],\n",
       "        [125, 124, 126]],\n",
       "\n",
       "       ...,\n",
       "\n",
       "       [[128, 123, 124],\n",
       "        [128, 123, 124],\n",
       "        [128, 123, 124],\n",
       "        ...,\n",
       "        [126, 121, 123],\n",
       "        [126, 121, 123],\n",
       "        [126, 121, 123]],\n",
       "\n",
       "       [[128, 123, 124],\n",
       "        [128, 123, 124],\n",
       "        [128, 123, 124],\n",
       "        ...,\n",
       "        [126, 121, 122],\n",
       "        [126, 121, 123],\n",
       "        [125, 120, 122]],\n",
       "\n",
       "       [[128, 123, 124],\n",
       "        [128, 123, 124],\n",
       "        [128, 123, 124],\n",
       "        ...,\n",
       "        [126, 121, 122],\n",
       "        [125, 120, 122],\n",
       "        [125, 120, 122]]], dtype=uint8)"
      ]
     },
     "execution_count": 15,
     "metadata": {},
     "output_type": "execute_result"
    }
   ],
   "source": [
    "#Finding Distance between right and left ankle\n",
    "xyp=[]\n",
    "xyp2=[]\n",
    "for i in ref_datum:\n",
    "    p=ref_body_dict[i]\n",
    "    a=body_points[p][1:]\n",
    "    b=req_body_points[p]\n",
    "    xyp.append(a)\n",
    "    xyp2.append(b)\n",
    "\n",
    "# for i in range(len(xyp)):\n",
    "#     print(xyp[i][0],xyp[i+1][0])\n",
    "#     cv2.line(img,xyp[i][0],xyp[i][1],(0,255,0),2)\n",
    "cv2.line(img,xyp[0],xyp[1],(0,255,0),2)\n",
    "#     distance=str(l_dist(xyp[i][0][0],xyp[i][0][1],xyp[i][1][0],xyp[i][1][1]))\n",
    "distance=str(l_dist(xyp[0][0],xyp[0][1],xyp[1][0],xyp[1][1]))\n",
    "p=int((xyp[0][0]+xyp[1][0])/2)\n",
    "q=int((xyp[0][1]+xyp[1][1])/2)\n",
    "cv2.putText(img,distance,(p,q),cv2.FONT_HERSHEY_SIMPLEX,1,(0,0,0),2,cv2.LINE_AA)\n",
    "\n",
    "\n",
    "cv2.line(img,xyp2[0],xyp2[1],(0,255,0),2)\n",
    "#     distance=str(l_dist(xyp[i][0][0],xyp[i][0][1],xyp[i][1][0],xyp[i][1][1]))\n",
    "distance=str(l_dist(xyp2[0][0],xyp2[0][1],xyp2[1][0],xyp2[1][1]))\n",
    "p=int((xyp2[0][0]+xyp2[1][0])/2)\n",
    "q=int((xyp2[0][1]+xyp2[1][1])/2)\n",
    "cv2.putText(img,distance,(p,q),cv2.FONT_HERSHEY_SIMPLEX,1,(0,0,0),2,cv2.LINE_AA)\n",
    "\n",
    "str1=\"legs_dist & Rleg_palm_dstratio Dim=0.76\"\n",
    "str2=\"legs_dist & Rleg_palm_dstratio Inf=0.62\"\n",
    "cv2.putText(img,str1,(15,40),cv2.FONT_HERSHEY_SIMPLEX,1,(255,0,0),1,cv2.LINE_AA)\n",
    "cv2.putText(img,str2,(15,70),cv2.FONT_HERSHEY_SIMPLEX,1,(255,0,0),1,cv2.LINE_AA)\n",
    "# cv2.imwrite(\"Comparision with ground truth\\yogframe_dimyog_refptsdist_ratio.jpg\",img)\n",
    "# cv2.imshow('Ima',img)\n",
    "# cv2.waitKey()\n",
    "# cv2.destroyAllWindows()"
   ]
  },
  {
   "cell_type": "code",
   "execution_count": 17,
   "metadata": {},
   "outputs": [],
   "source": [
    "#Angle between points\n",
    "import math\n",
    "def gradient(pt1,pt2):\n",
    "    return (pt2[1]-pt1[1])/(pt2[0]-pt1[0])\n",
    "\n",
    "def getangle(pointslist):\n",
    "    pt1,pt2,pt3=pointslist[-3:]\n",
    "    m1=gradient(pt1,pt2)\n",
    "    m2=gradient(pt1,pt3)\n",
    "    angR = math.atan((m2-m1)/(1+(m2*m1)))\n",
    "    angD = round(math.degrees(angR))\n",
    "    return angD"
   ]
  },
  {
   "cell_type": "code",
   "execution_count": 18,
   "metadata": {},
   "outputs": [
    {
     "data": {
      "text/plain": [
       "(748, 328)"
      ]
     },
     "execution_count": 18,
     "metadata": {},
     "output_type": "execute_result"
    }
   ],
   "source": [
    "ref_datum=[i for i in ref_body_dict.keys() if i in ['right_shoulder','right_hip','right_palm']]\n",
    "req_body_points[ref_body_dict[ref_datum[0]]]"
   ]
  },
  {
   "cell_type": "code",
   "execution_count": 19,
   "metadata": {},
   "outputs": [],
   "source": [
    "right_shoulder=req_body_points[ref_body_dict[ref_datum[0]]]\n",
    "right_hip=req_body_points[ref_body_dict[ref_datum[1]]]\n",
    "right_palm=req_body_points[ref_body_dict[ref_datum[2]]]\n",
    "ang_points=[right_shoulder,right_hip,right_palm]"
   ]
  },
  {
   "cell_type": "code",
   "execution_count": 20,
   "metadata": {},
   "outputs": [
    {
     "name": "stdout",
     "output_type": "stream",
     "text": [
      "68\n"
     ]
    }
   ],
   "source": [
    "ang_points=[right_shoulder,right_hip,right_palm]\n",
    "angD=getangle(ang_points)\n",
    "print(angD)\n"
   ]
  },
  {
   "cell_type": "code",
   "execution_count": 21,
   "metadata": {},
   "outputs": [],
   "source": [
    "import cv2\n",
    "img=cv2.imread(\"Comparision with ground truth\\yogframe_dimyog.jpg\")\n",
    "cv2.putText(img,str(angD)+\" deg\",right_shoulder,cv2.FONT_HERSHEY_SIMPLEX,1,(255,0,0),1,cv2.LINE_AA)\n",
    "cv2.imshow('img',img)\n",
    "\n",
    "cv2.waitKey()\n",
    "cv2.destroyAllWindows()"
   ]
  },
  {
   "cell_type": "code",
   "execution_count": 22,
   "metadata": {},
   "outputs": [
    {
     "data": {
      "text/plain": [
       "(792, 353)"
      ]
     },
     "execution_count": 22,
     "metadata": {},
     "output_type": "execute_result"
    }
   ],
   "source": [
    "ref_datum=[i for i in ref_body_dict.keys() if i in ['right_shoulder','right_hip','right_palm']]\n",
    "body_points[ref_body_dict[ref_datum[0]]][1:]"
   ]
  },
  {
   "cell_type": "code",
   "execution_count": 23,
   "metadata": {},
   "outputs": [],
   "source": [
    "right_shoulder=body_points[ref_body_dict[ref_datum[0]]][1:]\n",
    "right_hip=body_points[ref_body_dict[ref_datum[1]]][1:]\n",
    "right_palm=body_points[ref_body_dict[ref_datum[2]]][1:]\n",
    "ang_points=[right_shoulder,right_hip,right_palm]\n",
    "\n",
    "ang_points=[right_shoulder,right_hip,right_palm]\n",
    "angD=getangle(ang_points)\n",
    "# print(angD)\n",
    "\n",
    "cv2.putText(img,str(angD)+\" deg\",right_shoulder,cv2.FONT_HERSHEY_SIMPLEX,1,(255,0,0),1,cv2.LINE_AA)\n",
    "cv2.imshow('img',img)\n",
    "cv2.imwrite(\"Comparision with ground truth\\yogframe_dimyog_angles.jpg\",img)\n",
    "cv2.waitKey()\n",
    "cv2.destroyAllWindows()"
   ]
  },
  {
   "cell_type": "code",
   "execution_count": 1,
   "metadata": {},
   "outputs": [
    {
     "data": {
      "text/plain": [
       "((480, 396, 3), (618, 478, 3))"
      ]
     },
     "execution_count": 1,
     "metadata": {},
     "output_type": "execute_result"
    }
   ],
   "source": [
    "import cv2\n",
    "img1=cv2.imread(\"images\\dim_triangles-cropped.png\")\n",
    "img2=cv2.imread(\"images\\yogframe_cropped.jpg\")\n",
    "img1.shape,img2.shape"
   ]
  },
  {
   "cell_type": "code",
   "execution_count": 7,
   "metadata": {},
   "outputs": [
    {
     "name": "stdout",
     "output_type": "stream",
     "text": [
      "(618, 396, 3) (618, 478, 3)\n"
     ]
    }
   ],
   "source": [
    "import cv2\n",
    "img1=cv2.imread(\"images\\dim_triangles-cropped.png\")\n",
    "img2=cv2.imread(\"images\\yogframe_cropped.jpg\")\n",
    "img1.shape,img2.shape\n",
    "img1=cv2.resize(img1,(int(618/480)*396,618))\n",
    "print(img1.shape,img2.shape)\n",
    "# cv2.imwrite(\"images/dim_pose_sameht.jpg\",img1)\n",
    "cv2.imshow('img',img1)\n",
    "cv2.waitKey()\n",
    "cv2.destroyAllWindows()\n"
   ]
  },
  {
   "cell_type": "code",
   "execution_count": 9,
   "metadata": {},
   "outputs": [],
   "source": [
    "import cv2\n",
    "img=cv2.imread('images\\dim_image_org.png')\n",
    "cropped_image = img[65:545,50:435+80]\n",
    "cv2.imshow('img',cropped_image)\n",
    "cv2.imshow('org',img)\n",
    "# cv2.imwrite('Images_output\\dimimg_crop.jpg',cropped_image)\n",
    "cv2.waitKey()\n",
    "cv2.destroyAllWindows()"
   ]
  },
  {
   "cell_type": "code",
   "execution_count": 10,
   "metadata": {},
   "outputs": [
    {
     "data": {
      "text/plain": [
       "((480, 419, 3), (618, 478, 3), (419, 480))"
      ]
     },
     "execution_count": 10,
     "metadata": {},
     "output_type": "execute_result"
    }
   ],
   "source": [
    "import cv2\n",
    "img1=cv2.imread('Images_output\\dimimg_crop.jpg')\n",
    "img2=cv2.imread('images\\yogframe_cropped.jpg')\n",
    "# cv2.imshow('dim',img1)\n",
    "# cv2.imshow('inf',img2)\n",
    "\n",
    "# cv2.imwrite('Images_output\\dimimg_crop.jpg',cropped_image)\n",
    "# cv2.waitKey()\n",
    "# cv2.destroyAllWindows()\n",
    "img1.shape,img2.shape,img1.shape[1::-1]"
   ]
  },
  {
   "cell_type": "code",
   "execution_count": 28,
   "metadata": {},
   "outputs": [],
   "source": [
    "import cv2\n",
    "import numpy as np\n",
    "\n",
    "img1=cv2.imread('Images_output\\dimimg_crop.jpg')\n",
    "img2=cv2.imread('images\\yogframe_cropped.jpg')\n",
    "\n",
    "# img2 = img2[0:480,0:425]\n",
    "img2= cv2.resize(img2,img1.shape[1::-1])\n",
    "\n",
    "added_image = cv2.addWeighted(img1,0.7,img2,0.3,0)\n",
    "\n",
    "\n",
    "cv2.imshow('Blended Image',added_image)\n",
    "# cv2.imwrite(\"Trial&error for correct overlay\\sample_dim_dimresized2.jpg\",added_image)\n",
    "cv2.waitKey(0)\n",
    "cv2.destroyAllWindows()"
   ]
  },
  {
   "cell_type": "code",
   "execution_count": 8,
   "metadata": {},
   "outputs": [
    {
     "name": "stdout",
     "output_type": "stream",
     "text": [
      "(480, 425, 3)\n"
     ]
    }
   ],
   "source": [
    "import cv2\n",
    "img2=cv2.imread('images\\yogframe_cropped.jpg')\n",
    "cropped_img2 = img2[0:480,0:425]\n",
    "print(cropped_img2.shape)\n",
    "cv2.imshow('req frame Image',cropped_img2)\n",
    "cv2.waitKey(0)\n",
    "cv2.destroyAllWindows()"
   ]
  },
  {
   "attachments": {},
   "cell_type": "markdown",
   "metadata": {},
   "source": [
    "0. Assumptions:\n",
    "dimensions image W 2x user image W;\n",
    "H is the same for both;\n",
    "user image has fixed W and H\n",
    "\n",
    "Get the MRP from the user image - left foot in this case\n",
    "On the user image, D will be MRP.W;\n",
    "On the dimensions image, crop LEFT SIDE by D from the MRP of the dim image\n",
    "dim.MRP.W = 300 _____ (300-d:user.W-300)\n",
    "On dimensions image crop RightSide by user.W"
   ]
  },
  {
   "cell_type": "code",
   "execution_count": null,
   "metadata": {},
   "outputs": [],
   "source": [
    "# Get the MRP from the user image - left foot in this case"
   ]
  }
 ],
 "metadata": {
  "kernelspec": {
   "display_name": "Python 3.9.0 64-bit",
   "language": "python",
   "name": "python3"
  },
  "language_info": {
   "codemirror_mode": {
    "name": "ipython",
    "version": 3
   },
   "file_extension": ".py",
   "mimetype": "text/x-python",
   "name": "python",
   "nbconvert_exporter": "python",
   "pygments_lexer": "ipython3",
   "version": "3.9.0 (tags/v3.9.0:9cf6752, Oct  5 2020, 15:34:40) [MSC v.1927 64 bit (AMD64)]"
  },
  "orig_nbformat": 4,
  "vscode": {
   "interpreter": {
    "hash": "540c31e3c6e69c862d82fa5161a105014835cdc23564856d41aa187606f7a1c9"
   }
  }
 },
 "nbformat": 4,
 "nbformat_minor": 2
}
