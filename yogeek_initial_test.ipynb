{
 "cells": [
  {
   "cell_type": "markdown",
   "metadata": {},
   "source": [
    "# Importing Necessary Libraries for Pose Detection"
   ]
  },
  {
   "cell_type": "code",
   "execution_count": null,
   "metadata": {},
   "outputs": [],
   "source": [
    "import mediapipe as mp\n",
    "import cv2\n",
    "import time\n",
    "import numpy as np\n",
    "import pandas as pd\n",
    "import os\n",
    "mpPose = mp.solutions.pose\n",
    "pose = mpPose.Pose()\n",
    "mpDraw = mp.solutions.drawing_utils # For drawing keypoints\n",
    "points = mpPose.PoseLandmark # Landmarks\n",
    "path = \"D:\\Lotus Labs Work\\Yogeek\\images\" # enter dataset path\n",
    "data = []\n",
    "for p in points:\n",
    "        x = str(p)[13:]\n",
    "        data.append(x + \"_x\")\n",
    "        data.append(x + \"_y\")\n",
    "        data.append(x + \"_z\")\n",
    "        data.append(x + \"_vis\")\n",
    "data = pd.DataFrame(columns = data) # Empty dataset"
   ]
  },
  {
   "cell_type": "markdown",
   "metadata": {},
   "source": [
    "# Pose Detection Image"
   ]
  },
  {
   "cell_type": "code",
   "execution_count": null,
   "metadata": {},
   "outputs": [],
   "source": [
    "count = 0\n",
    "\n",
    "for img in os.listdir(path):\n",
    "\n",
    "        temp = []\n",
    "\n",
    "        img = cv2.imread(path + \"/\" + img)\n",
    "\n",
    "        imageWidth, imageHeight = img.shape[:2]\n",
    "\n",
    "        imgRGB = cv2.cvtColor(img, cv2.COLOR_BGR2RGB)\n",
    "\n",
    "        blank = np.zeros(img.shape) # Blank image\n",
    "\n",
    "        results = pose.process(imgRGB)\n",
    "\n",
    "        if results.pose_landmarks:\n",
    "\n",
    "                # mpDraw.draw_landmarks(img, results.pose_landmarks, mpPose.POSE_CONNECTIONS) #draw landmarks on image\n",
    "\n",
    "                mpDraw.draw_landmarks(blank, results.pose_landmarks, mpPose.POSE_CONNECTIONS) # draw landmarks on blank\n",
    "\n",
    "                landmarks = results.pose_landmarks.landmark\n",
    "\n",
    "                for i,j in zip(points,landmarks):\n",
    "\n",
    "                        temp = temp + [j.x, j.y, j.z, j.visibility]\n",
    "\n",
    "                data.loc[count] = temp\n",
    "\n",
    "                count +=1\n",
    "\n",
    "        cv2.imshow(\"Image\", img)\n",
    "\n",
    "        cv2.imshow(\"blank\",blank)\n",
    "        \n",
    "        cv2.waitKey()\n",
    "        cv2.destroyAllWindows()\n",
    "# cv2.imwrite(\"D:\\Lotus Labs Work\\Yogeek\\Images_output\",blank)\n",
    "# data.to_csv(\"dataset3.csv\") # save the data as a csv file"
   ]
  },
  {
   "cell_type": "markdown",
   "metadata": {},
   "source": [
    "# Edge Detection Image"
   ]
  },
  {
   "cell_type": "code",
   "execution_count": 20,
   "metadata": {},
   "outputs": [],
   "source": [
    "import cv2\n",
    "import numpy as np\n",
    "\n",
    "image = cv2.imread(r'images\\1.jpeg',0)\n",
    "cv2.imshow('image', image)\n",
    "cv2.waitKey(0)\n",
    "# Canny Edge Detection uses gradient values as thresholds\n",
    "# The first threshold gradient\n",
    "canny1 = cv2.Canny(image, 50, 120)\n",
    "cv2.imshow('Canny', canny1)\n",
    "# cv2.imwrite(\"Images_output\\1edge.jpg\",canny1)\n",
    "cv2.waitKey(0)\n",
    "\n",
    "# canny = cv2.Canny(image, 10, 200)\n",
    "# cv2.imshow('Canny Wide', canny)\n",
    "# cv2.waitKey(0)\n",
    "\n",
    "# canny = cv2.Canny(image, 200, 240)\n",
    "# cv2.imshow('Canny Narrow', canny)\n",
    "# cv2.waitKey(0)\n",
    "\n",
    "# canny = cv2.Canny(image, 70, 110)\n",
    "# cv2.imshow('Canny 3', canny)\n",
    "# cv2.waitKey(0)\n",
    "\n",
    "cv2.destroyAllWindows()\n"
   ]
  },
  {
   "cell_type": "markdown",
   "metadata": {},
   "source": [
    "## Combining Pose Points and Edge Detection Images"
   ]
  },
  {
   "cell_type": "code",
   "execution_count": 21,
   "metadata": {},
   "outputs": [],
   "source": [
    "import cv2\n",
    "import numpy as np\n",
    "\n",
    "img1 = cv2.imread(r'Images_output\\1edge.jpg')\n",
    "img2 = cv2.imread(r'Images_output\\1.jpg')\n",
    "added_image = cv2.addWeighted(img1,0.8,img2,1,0)\n",
    "\n",
    "\n",
    "cv2.imshow('Blended Image',added_image)\n",
    "# cv2.imwrite(\"Images_output\\edge+outline.jpg\",added_image)\n",
    "cv2.waitKey(0)\n",
    "cv2.destroyAllWindows()"
   ]
  },
  {
   "cell_type": "markdown",
   "metadata": {},
   "source": [
    "## Edge Detection Yoga Video"
   ]
  },
  {
   "cell_type": "code",
   "execution_count": 18,
   "metadata": {},
   "outputs": [
    {
     "name": "stdout",
     "output_type": "stream",
     "text": [
      "Frames per second :  29.97002997002997 FPS\n"
     ]
    }
   ],
   "source": [
    "import cv2\n",
    "import numpy as np\n",
    "\n",
    "cap = cv2.VideoCapture('Videos\\Triangle_pose.mp4')\n",
    "\n",
    "if cap.isOpened()==False:\n",
    "    print('Error in reading Video')\n",
    "\n",
    "frame_width = int(cap.get(3))\n",
    "frame_height = int(cap.get(4))\n",
    "# output = cv2.VideoWriter('Videos_output\\Pose_edge.mp4',cv2.VideoWriter_fourcc(*\"mp4v\"), 30, (frame_width,frame_height),isColor=False)\n",
    "fps = cap.get(5)\n",
    "print('Frames per second : ', fps,'FPS')\n",
    "while cap.isOpened():\n",
    "    ret,img=cap.read()\n",
    "    if ret==True:\n",
    "        # cv2.imshow('frame',frame)\n",
    "        gray = cv2.cvtColor(img, cv2.COLOR_BGR2GRAY)\n",
    "        blur = cv2.GaussianBlur(gray, (5, 5), 0)\n",
    "        canny = cv2.Canny(blur, 10, 70)\n",
    "        # ret, mask = cv2.threshold(canny, 70, 255, cv2.THRESH_BINARY) \n",
    "        canny = cv2.resize(canny, (1280,720))\n",
    "        # output.write(canny)   \n",
    "        cv2.imshow('Video feed', canny)\n",
    "        \n",
    "        if cv2.waitKey(10) & 0xFF == ord('q'):\n",
    "            break\n",
    "    else:\n",
    "        break\n",
    "cap.release()\n",
    "# output.release()\n",
    "cv2.destroyAllWindows()"
   ]
  },
  {
   "cell_type": "markdown",
   "metadata": {},
   "source": [
    "# Pose Detection Yoga Video"
   ]
  },
  {
   "cell_type": "code",
   "execution_count": 28,
   "metadata": {},
   "outputs": [
    {
     "name": "stdout",
     "output_type": "stream",
     "text": [
      "Frames per second :  29.97002997002997 FPS\n"
     ]
    }
   ],
   "source": [
    "import cv2\n",
    "import mediapipe as mp\n",
    "import time\n",
    "import numpy as np \n",
    "\n",
    "\n",
    "mpPose = mp.solutions.pose\n",
    "pose = mpPose.Pose()\n",
    "mpDraw = mp.solutions.drawing_utils\n",
    "\n",
    "#cap = cv2.VideoCapture(0)\n",
    "cap = cv2.VideoCapture('Videos\\Triangle_pose.mp4')\n",
    "pTime = 0\n",
    "frame_width = int(cap.get(3))\n",
    "frame_height = int(cap.get(4))\n",
    "fps = cap.get(5)\n",
    "print('Frames per second : ', fps,'FPS')\n",
    "output = cv2.VideoWriter('Videos_output\\Pose_onlypoints.mp4',cv2.VideoWriter_fourcc(*\"mp4v\"), 30, (frame_width,frame_height))\n",
    "while True:\n",
    "    success, img = cap.read()\n",
    "    blank = np.zeros(img.shape)\n",
    "    imgRGB = cv2.cvtColor(img, cv2.COLOR_BGR2RGB)\n",
    "    results = pose.process(imgRGB)\n",
    "#     print(results.pose_landmarks)\n",
    "    \n",
    "    if results.pose_landmarks:\n",
    "        mpDraw.draw_landmarks(blank, results.pose_landmarks, mpPose.POSE_CONNECTIONS)\n",
    "        for id, lm in enumerate(results.pose_landmarks.landmark):\n",
    "            h, w,c = img.shape\n",
    "        #     print(id, lm)\n",
    "            cx, cy = int(lm.x*w), int(lm.y*h)\n",
    "            cv2.circle(blank, (cx, cy), 3, (255,0,0), cv2.FILLED)\n",
    "\n",
    "\n",
    "    cTime = time.time()\n",
    "    fps = 1/(cTime-pTime)\n",
    "    pTime = cTime\n",
    "\n",
    "    # cv2.putText(img, str(int(fps)), (50,50), cv2.FONT_HERSHEY_SIMPLEX,1,(255,0,0), 3)\n",
    "    output.write(blank)\n",
    "    # blank = cv2.resize(blank, (1280,720))\n",
    "    cv2.imshow(\"Image\", blank)\n",
    "    if cv2.waitKey(1) & 0xFF == ord('q'):\n",
    "        break\n",
    "cap.release()\n",
    "output.release()\n",
    "cv2.destroyAllWindows()"
   ]
  },
  {
   "cell_type": "markdown",
   "metadata": {},
   "source": [
    "# Getting Green Edges"
   ]
  },
  {
   "cell_type": "code",
   "execution_count": 3,
   "metadata": {},
   "outputs": [],
   "source": [
    "import cv2\n",
    "import numpy as np\n",
    "red   = [0,0,255]\n",
    "green = [0,255,0]\n",
    "blue  = [255,0,0]\n",
    "white = [255,255,255]\n",
    "black = [0,0,0]\n",
    "\n",
    "\n",
    "\n",
    "img2 = cv2.imread(r'Images_output\\yogframe_edge.jpg')\n",
    "img2[np.all(img2 == white, axis=-1)] = green\n",
    "# B,G,R=cv2.split(img2)\n",
    "# green=cv2.merge([B,G+200,R])\n",
    "cv2.imshow(\"Merged with Green Amplified\", img2)\n",
    "cv2.imwrite('Images_output\\yogframe_greenedge.jpg',img2) \n",
    "cv2.waitKey(0)\n",
    "\n",
    "cv2.destroyAllWindows()"
   ]
  },
  {
   "cell_type": "markdown",
   "metadata": {},
   "source": [
    "# Combining Pose Points ,Image and Green Edge  Images"
   ]
  },
  {
   "cell_type": "code",
   "execution_count": 9,
   "metadata": {},
   "outputs": [],
   "source": [
    "import cv2\n",
    "import numpy as np\n",
    "\n",
    "img1 = cv2.imread(r'images\\yogframe.jpg')\n",
    "img2 = cv2.imread(r'Images_output\\yogframe_greenedge.jpg')\n",
    "img3= cv2.imread(r'Images_output\\yogframe_points.jpg')\n",
    "added_image = cv2.addWeighted(img1,0.6,img2,1,0)\n",
    "added_image2=cv2.addWeighted(added_image,1,img3,0.5,0)\n",
    "\n",
    "cv2.imshow('Blended Image',added_image2)\n",
    "cv2.imwrite(\"Images_output\\yogframe_img+edge+points.jpg\",added_image2)\n",
    "cv2.waitKey(0)\n",
    "cv2.destroyAllWindows()"
   ]
  },
  {
   "cell_type": "markdown",
   "metadata": {},
   "source": [
    "# Getting Image from the Video"
   ]
  },
  {
   "cell_type": "code",
   "execution_count": 1,
   "metadata": {},
   "outputs": [],
   "source": [
    "import cv2\n",
    "\n",
    "\n",
    "video = cv2.VideoCapture('Videos\\Triangle_pose.mp4')\n",
    "\n",
    "fps = video.get(cv2.CAP_PROP_FPS)\n",
    "# print('frames per second =',fps)\n",
    "\n",
    "minutes = 0\n",
    "seconds = 25\n",
    "frame_id = int(fps*(minutes*60 + seconds))\n",
    "# print('frame id =',frame_id)\n",
    "\n",
    "video.set(cv2.CAP_PROP_POS_FRAMES, frame_id)\n",
    "ret, frame = video.read()\n",
    "\n",
    "t_msec = 1000*(minutes*60 + seconds)\n",
    "video.set(cv2.CAP_PROP_POS_MSEC, t_msec)\n",
    "ret, frame = video.read()\n",
    "\n",
    "cv2.imshow('frame', frame)\n",
    "cv2.imwrite(\"images\\yogframe.jpg\",frame)\n",
    "cv2.waitKey(0)\n",
    "cv2.destroyAllWindows()\n",
    "# cv2.imwrite('my_video_frame.png', frame)"
   ]
  },
  {
   "cell_type": "markdown",
   "metadata": {},
   "source": [
    "# Edge Detection for the Extracted Image from the Video\n"
   ]
  },
  {
   "cell_type": "code",
   "execution_count": 2,
   "metadata": {},
   "outputs": [],
   "source": [
    "import cv2\n",
    "import numpy as np\n",
    "\n",
    "image = cv2.imread(r'images\\yogframe.jpg',0)\n",
    "cv2.imshow('image', image)\n",
    "cv2.waitKey(0)\n",
    "\n",
    "canny1= cv2.Canny(image, 50, 120)\n",
    "\n",
    "cv2.imwrite(\"Images_output\\yogframe_edge.jpg\",canny1)\n",
    "cv2.waitKey(0)\n",
    "cv2.destroyAllWindows()\n"
   ]
  },
  {
   "cell_type": "markdown",
   "metadata": {},
   "source": [
    "# Pose Points Detection for the Extracted Image from the Video"
   ]
  },
  {
   "cell_type": "code",
   "execution_count": 19,
   "metadata": {},
   "outputs": [],
   "source": [
    "import mediapipe as mp\n",
    "import cv2\n",
    "import time\n",
    "import numpy as np\n",
    "mpPose = mp.solutions.pose\n",
    "pose = mpPose.Pose()\n",
    "mpDraw = mp.solutions.drawing_utils # For drawing keypoints\n",
    "points = mpPose.PoseLandmark # Landmarks\n",
    "\n",
    "img = cv2.imread(r'images\\yogframe.jpg')\n",
    "imageWidth, imageHeight = img.shape[:2]\n",
    "imgRGB = cv2.cvtColor(img, cv2.COLOR_BGR2RGB)\n",
    "blank = np.zeros(img.shape) # Blank image\n",
    "results = pose.process(imgRGB)\n",
    "\n",
    "if results.pose_landmarks:\n",
    "    mpDraw.draw_landmarks(blank, results.pose_landmarks, mpPose.POSE_CONNECTIONS) # draw landmarks on blank\n",
    "    landmarks = results.pose_landmarks.landmark\n",
    "\n",
    "\n",
    "cv2.imshow(\"Image\", img)\n",
    "cv2.imshow(\"blank\",blank)\n",
    "# cv2.imwrite('Images_output\\yogframe_points.jpg',blank)\n",
    "cv2.waitKey()\n",
    "cv2.destroyAllWindows()"
   ]
  },
  {
   "cell_type": "code",
   "execution_count": 40,
   "metadata": {},
   "outputs": [],
   "source": [
    "x=[]\n",
    "y=[]\n",
    "comb_list=[]\n",
    "for id, lm in enumerate(results.pose_landmarks.landmark):\n",
    "    h, w,c = img.shape\n",
    "    # print(id, lm)\n",
    "    cx, cy = int(lm.x*w), int(lm.y*h)\n",
    "    comb_list.append((cx,cy))\n",
    "\n",
    "comb_list=dict(enumerate(comb_list))\n"
   ]
  },
  {
   "cell_type": "code",
   "execution_count": null,
   "metadata": {},
   "outputs": [],
   "source": []
  }
 ],
 "metadata": {
  "kernelspec": {
   "display_name": "Python 3.9.0 64-bit",
   "language": "python",
   "name": "python3"
  },
  "language_info": {
   "codemirror_mode": {
    "name": "ipython",
    "version": 3
   },
   "file_extension": ".py",
   "mimetype": "text/x-python",
   "name": "python",
   "nbconvert_exporter": "python",
   "pygments_lexer": "ipython3",
   "version": "3.9.0 (tags/v3.9.0:9cf6752, Oct  5 2020, 15:34:40) [MSC v.1927 64 bit (AMD64)]"
  },
  "orig_nbformat": 4,
  "vscode": {
   "interpreter": {
    "hash": "540c31e3c6e69c862d82fa5161a105014835cdc23564856d41aa187606f7a1c9"
   }
  }
 },
 "nbformat": 4,
 "nbformat_minor": 2
}
