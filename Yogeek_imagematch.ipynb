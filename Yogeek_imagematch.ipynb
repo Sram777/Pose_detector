{
 "cells": [
  {
   "cell_type": "code",
   "execution_count": 1,
   "metadata": {},
   "outputs": [],
   "source": [
    "# Assumptions:\n",
    "# dimensions image W 2x user image W;\n",
    "# H is the same for both;\n",
    "# user image has fixed W and H\n",
    "\n",
    "# Get the MRP from the user image - left foot in this case\n",
    "# On the user image, D will be MRP.W;\n",
    "# On the dimensions image, crop LEFT SIDE by D from the MRP of the dim image\n",
    "#     dim.MRP.W = 300 _____ (300-d:user.W-300)\n",
    "# On dimensions image crop RightSide by user.W\n",
    "#     (0:1500) - original dimemsnions width\n",
    "#     (300:1500) - left side crop\n",
    "#     (300:300+userW) - right side crop with reference to left side crop"
   ]
  },
  {
   "cell_type": "code",
   "execution_count": 2,
   "metadata": {},
   "outputs": [],
   "source": [
    "# Create a dictionary with these\n",
    "body_parts={\n",
    "    0:\"nose\",\n",
    "    1:\"left_eye_inner\",\n",
    "    2:\"left_eye\",\n",
    "    3:\"left_eve_outer\",\n",
    "    4:\"right_eye_inner\",\n",
    "    5:\"right_eye\",\n",
    "    6:\"right_eye_outer\",\n",
    "    7:\"left_ear\",\n",
    "    8:\"right_ear\",\n",
    "    9:\"mouth_left\",\n",
    "    10:\"mouth_right\",\n",
    "    11:\"left_shoulder\",\n",
    "    12:\"right_shoulder\",\n",
    "    13:\"left_elbow\",\n",
    "    14:\"right_elbow\",\n",
    "    15:\"left_wrist\",\n",
    "    16:\"right_wrist\",\n",
    "    17:\"left_pinky\",\n",
    "    18:\"right_pinky\",\n",
    "    19:\"left index\",\n",
    "    20:\"right_index\",\n",
    "    21:\"left_thumb\",\n",
    "    22:\"right_thumb\",\n",
    "    23:\"left_hip\",\n",
    "    24:\"right_hip\",\n",
    "    25:\"left_knee\",\n",
    "    26:\"right_knee\",\n",
    "    27:\"left_ankle\",\n",
    "    28:\"right_ankle\",\n",
    "    29:\"left_heel\",\n",
    "    30:\"right_heel\",\n",
    "    31:\"left_foot_index\",\n",
    "    32:\"right_foot_index\"\n",
    "    }\n",
    "\n",
    "# ref_body_dict=[]\n",
    "# for i in body_parts:\n",
    "#     x=body_parts[i]\n",
    "#     y=i\n",
    "#     ref_body_dict.append((x,y))\n",
    "# ref_body_dict=dict(ref_body_dict)\n",
    "# ref_body_dict.keys()"
   ]
  },
  {
   "cell_type": "code",
   "execution_count": 83,
   "metadata": {},
   "outputs": [
    {
     "data": {
      "text/plain": [
       "mediapipe.python.solution_base.SolutionOutputs"
      ]
     },
     "execution_count": 83,
     "metadata": {},
     "output_type": "execute_result"
    }
   ],
   "source": [
    "import mediapipe as mp\n",
    "import cv2\n",
    "import time\n",
    "import numpy as np\n",
    "\n",
    "img=cv2.imread(r'images\\tree.jpg')\n",
    "def med_pipe(img):\n",
    "    mpPose = mp.solutions.pose\n",
    "    pose = mpPose.Pose()\n",
    "    mpDraw = mp.solutions.drawing_utils # For drawing keypoints\n",
    "    points = mpPose.PoseLandmark # Landmarks\n",
    "\n",
    "    # img = cv2.imread(r'images\\tree.jpg')\n",
    "    imageWidth, imageHeight = img.shape[:2]\n",
    "    imgRGB = cv2.cvtColor(img, cv2.COLOR_BGR2RGB)\n",
    "    blank = np.zeros(img.shape) # Blank image\n",
    "    results = pose.process(imgRGB)\n",
    "\n",
    "    if results.pose_landmarks:\n",
    "        mpDraw.draw_landmarks(blank, results.pose_landmarks, mpPose.POSE_CONNECTIONS) # draw landmarks on blank\n",
    "        landmarks = results.pose_landmarks.landmark\n",
    "\n",
    "    return results\n",
    "\n",
    "med_pipe(img)\n",
    "# cv2.imshow(\"Image\", img)\n",
    "# cv2.imshow(\"blank\",blank)\n",
    "# # cv2.imwrite('Images_output\\yogframe_points.jpg',blank)\n",
    "# cv2.waitKey()\n",
    "# cv2.destroyAllWindows()"
   ]
  },
  {
   "cell_type": "code",
   "execution_count": 91,
   "metadata": {},
   "outputs": [],
   "source": [
    "comb_list=[]\n",
    "for id, lm in enumerate(results.pose_landmarks.landmark):\n",
    "    h, w,c = img.shape\n",
    "    # print(id, lm)\n",
    "    cx, cy = int(lm.x*w), int(lm.y*h)\n",
    "    comb_list.append((cx,cy))\n",
    "\n",
    "comb_list=dict(enumerate(comb_list))\n"
   ]
  },
  {
   "cell_type": "code",
   "execution_count": 92,
   "metadata": {},
   "outputs": [],
   "source": [
    "body_points=[]\n",
    "for i in comb_list:\n",
    "    x=body_parts[i]\n",
    "    y=comb_list[i]\n",
    "    body_points.append((x,y))\n",
    "\n",
    "body_points=dict(body_points)"
   ]
  },
  {
   "cell_type": "code",
   "execution_count": 93,
   "metadata": {},
   "outputs": [
    {
     "data": {
      "text/plain": [
       "dict_keys(['nose', 'left_eye_inner', 'left_eye', 'left_eve_outer', 'right_eye_inner', 'right_eye', 'right_eye_outer', 'left_ear', 'right_ear', 'mouth_left', 'mouth_right', 'left_shoulder', 'right_shoulder', 'left_elbow', 'right_elbow', 'left_wrist', 'right_wrist', 'left_pinky', 'right_pinky', 'left index', 'right_index', 'left_thumb', 'right_thumb', 'left_hip', 'right_hip', 'left_knee', 'right_knee', 'left_ankle', 'right_ankle', 'left_heel', 'right_heel', 'left_foot_index', 'right_foot_index'])"
      ]
     },
     "execution_count": 93,
     "metadata": {},
     "output_type": "execute_result"
    }
   ],
   "source": [
    "body_points.keys()"
   ]
  },
  {
   "cell_type": "code",
   "execution_count": 94,
   "metadata": {},
   "outputs": [
    {
     "data": {
      "text/plain": [
       "{'nose': (444, 161),\n",
       " 'left_wrist': (450, 74),\n",
       " 'right_wrist': (434, 76),\n",
       " 'left_hip': (458, 347),\n",
       " 'right_hip': (408, 343),\n",
       " 'right_knee': (328, 402),\n",
       " 'left_ankle': (435, 537),\n",
       " 'right_ankle': (420, 383)}"
      ]
     },
     "execution_count": 94,
     "metadata": {},
     "output_type": "execute_result"
    }
   ],
   "source": [
    "req_body_points=[\"left_ankle\",\"right_ankle\",\"nose\",\"left_wrist\",\"right_wrist\",\"left_hip\",\"right_hip\",\"right_knee\"]\n",
    "mrp_user=[]\n",
    "for i in body_points:\n",
    "    if i in req_body_points:\n",
    "        x=i\n",
    "        y=body_points[i]\n",
    "        mrp_user.append((x,y))\n",
    "mrp_user=dict(mrp_user)\n",
    "mrp_user\n"
   ]
  },
  {
   "cell_type": "code",
   "execution_count": 95,
   "metadata": {},
   "outputs": [
    {
     "name": "stdout",
     "output_type": "stream",
     "text": [
      "(600, 800, 3)\n",
      "(615, 314, 3)\n"
     ]
    }
   ],
   "source": [
    "import cv2\n",
    "\n",
    "user_img=cv2.imread(r\"images\\tree.jpg\")\n",
    "dim_img=cv2.imread(\"images\\dim_tree_org.png\")\n",
    "\n",
    "print(user_img.shape)\n",
    "print(dim_img.shape)"
   ]
  },
  {
   "cell_type": "code",
   "execution_count": 96,
   "metadata": {},
   "outputs": [
    {
     "name": "stdout",
     "output_type": "stream",
     "text": [
      "(100, 150)\n",
      "(100, 150)\n"
     ]
    }
   ],
   "source": [
    "#Basic Idea \n",
    "dim_img=np.zeros((100,300))\n",
    "user_img=np.zeros((100,150))\n",
    "\n",
    "dim_mrp=(50,100)\n",
    "user_mrp=(30,100)\n",
    "\n",
    "dim_crop=dim_mrp[0]-user_mrp[0]\n",
    "dim_img=dim_img[:,dim_crop:dim_crop+(user_img.shape[1])]\n",
    "\n",
    "print(dim_img.shape)\n",
    "print(user_img.shape)"
   ]
  },
  {
   "cell_type": "code",
   "execution_count": 150,
   "metadata": {},
   "outputs": [],
   "source": [
    "Poses={'triangle':('right_ankle',80),'wheel':('left_ankle',100),'tree':('left_wrist','left_ankle','left_ankle',125,'left_ankle')}\n"
   ]
  },
  {
   "cell_type": "code",
   "execution_count": 151,
   "metadata": {},
   "outputs": [
    {
     "name": "stdout",
     "output_type": "stream",
     "text": [
      "(563, 225, 3)\n",
      "distance to left leg is 125\n"
     ]
    }
   ],
   "source": [
    "#Autocrop\n",
    "import cv2\n",
    "\n",
    "user_img=cv2.imread(r\"images\\tree.jpg\")\n",
    "D=Poses['tree'][3]\n",
    "cropht1=mrp_user[Poses['tree'][0]][1]-70\n",
    "cropht2=mrp_user[Poses['tree'][1]][1]+30\n",
    "cropW1=mrp_user[Poses['tree'][2]][0]-D\n",
    "cropW2=mrp_user[Poses['tree'][4]][0]+100\n",
    "user_img=user_img[cropht1:cropht2,cropW1:cropW2]\n",
    "print(user_img.shape)\n",
    "print(f'distance to left leg is {D}')\n",
    "cv2.imshow(\"Image\",user_img)\n",
    "cv2.waitKey()\n",
    "cv2.destroyAllWindows()\n"
   ]
  },
  {
   "cell_type": "code",
   "execution_count": 152,
   "metadata": {},
   "outputs": [],
   "source": [
    "# Things Done:\n",
    "    # Get the Sample Image Cropped from the Position of Body Parts and set distance of leg from left \n",
    "# Things to do:\n",
    "    # Need to somehow manage similare shape and d for Sample and Dimensions Image"
   ]
  },
  {
   "cell_type": "code",
   "execution_count": 153,
   "metadata": {},
   "outputs": [
    {
     "name": "stdout",
     "output_type": "stream",
     "text": [
      "(611, 314, 3)\n"
     ]
    }
   ],
   "source": [
    "import cv2\n",
    "dim_img=cv2.imread('images\\dim_tree_org.png')\n",
    "dim_img=dim_img[cropht1:,:cropW2]\n",
    "print(dim_img.shape)\n",
    "# cv2.imshow(\"Image\",dim_img)\n",
    "# cv2.waitKey()\n",
    "# cv2.destroyAllWindows()"
   ]
  },
  {
   "cell_type": "code",
   "execution_count": 154,
   "metadata": {},
   "outputs": [],
   "source": [
    "import cv2\n",
    "import numpy as np\n",
    "\n",
    "img1=dim_img\n",
    "img2=user_img\n",
    "\n",
    "# img2 = img2[0:480,0:425]\n",
    "# img1= cv2.resize(img1,img2.shape[1::-1])\n",
    "img2= cv2.resize(img2,img1.shape[1::-1])\n",
    "added_image = cv2.addWeighted(img1,0.5,img2,0.4,0)\n",
    "\n",
    "\n",
    "cv2.imshow('Blended Image',added_image)\n",
    "cv2.imwrite(\"Trial&error for correct overlay\\Automated_output_tree.jpg\",added_image)\n",
    "cv2.waitKey(0)\n",
    "cv2.destroyAllWindows()"
   ]
  },
  {
   "cell_type": "code",
   "execution_count": 155,
   "metadata": {},
   "outputs": [
    {
     "name": "stdout",
     "output_type": "stream",
     "text": [
      "1\n",
      "0\n"
     ]
    }
   ],
   "source": [
    "print(user_img.shape[1]//user_img.shape[1])\n",
    "print(dim_img.shape[1]//dim_img.shape[0])\n",
    "\n"
   ]
  },
  {
   "cell_type": "code",
   "execution_count": 156,
   "metadata": {},
   "outputs": [],
   "source": [
    "import cv2\n",
    "dim_img=cv2.imread('images\\dim_image_org.png')\n"
   ]
  }
 ],
 "metadata": {
  "kernelspec": {
   "display_name": "Python 3",
   "language": "python",
   "name": "python3"
  },
  "language_info": {
   "codemirror_mode": {
    "name": "ipython",
    "version": 3
   },
   "file_extension": ".py",
   "mimetype": "text/x-python",
   "name": "python",
   "nbconvert_exporter": "python",
   "pygments_lexer": "ipython3",
   "version": "3.9.0"
  },
  "orig_nbformat": 4,
  "vscode": {
   "interpreter": {
    "hash": "540c31e3c6e69c862d82fa5161a105014835cdc23564856d41aa187606f7a1c9"
   }
  }
 },
 "nbformat": 4,
 "nbformat_minor": 2
}
